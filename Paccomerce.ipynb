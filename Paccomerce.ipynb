{
  "cells": [
    {
      "cell_type": "markdown",
      "metadata": {
        "id": "WVttCn53nVtN"
      },
      "source": [
        "Class Membership_user:\n",
        "(username, monthly_expense, monthly_income)\n",
        "\n",
        "  def show_benefit():\n",
        "    show benefit for each tier membership\n",
        "  \n",
        "  def show_requirements():\n",
        "    show all membership plan requirements (monthly expenses and income)\n",
        "  \n",
        "  def predict_membership(monthly_expense, monthly_income):\n",
        "    input monthly expense and income\n",
        "    calculate membership using euclidean distance\n",
        "    the minimum distance is the membership prediction\n",
        "    show membership on screen\n",
        "  \n",
        "  def calculate_price():\n",
        "    input membership, list_harga_barang\n",
        "    sum list_harga_barang\n",
        "    calculate price to pay\n",
        "    shows final_price on screen\n",
        "    "
      ]
    },
    {
      "cell_type": "code",
      "execution_count": null,
      "metadata": {
        "id": "VAq2_xM4mTx8"
      },
      "outputs": [],
      "source": []
    },
    {
      "cell_type": "code",
      "execution_count": 33,
      "metadata": {
        "id": "VOsi9qh4pWW_"
      },
      "outputs": [],
      "source": [
        "from tabulate import tabulate\n",
        "from math import sqrt\n",
        "\n",
        "class Membership_user:\n",
        "  data = {'Sumbul': 'Platinum', 'Ana': 'Gold', 'Cahya': 'Platinum'}\n",
        "\n",
        "  def __init__(self,username):\n",
        "    self.username = username\n",
        "\n",
        "  def show_benefit(self):\n",
        "    benefit = [\n",
        "            [\"Platinum\", \"15%\", \"Benefit Gold + Silver + Cashback max. 30%\"],\n",
        "            [\"Gold\", \"10%\", \"Benefit Silver + Voucher Ojek Online\"],\n",
        "            [\"Silver\", \"8%\", \"Voucher Makanan\"]]\n",
        "\n",
        "    benefit_headers = [\"Membership\", \"Discount\", \"Another Benefit\"]\n",
        "\n",
        "    print()\n",
        "    print('Paccommerce Membership Benefit')\n",
        "    print(tabulate(benefit,benefit_headers,tablefmt ='fancy_grid',stralign = 'center'))\n",
        "    print()\n",
        "\n",
        "  def show_requirements(self):\n",
        "    requirements = [\n",
        "            [\"Platinum\", 8, 15],\n",
        "            [\"Gold\", 6, 10],\n",
        "            [\"Silver\", 5, 7],\n",
        "        ]\n",
        "\n",
        "    requirements_headers = [\"Membership\", \"Monthly Expense (juta)\", \"Monthly Income (juta)\"]\n",
        "\n",
        "    print()\n",
        "    print('Paccommerce Membership Benefit')\n",
        "    print(tabulate(requirements,requirements_headers,tablefmt ='fancy_grid',numalign = 'center'))\n",
        "    print()\n",
        "\n",
        "  def show_membership(self,username):\n",
        "    self.username = username\n",
        "    if username in self.data:\n",
        "      return self.data.get(username)\n",
        "\n",
        "  def predict_membership(self, monthly_expense, monthly_income):\n",
        "    self.monthly_expense = monthly_expense\n",
        "    self.monthly_income = monthly_income\n",
        "\n",
        "    plat = [8,15]\n",
        "    gold = [6,10]\n",
        "    silver = [5,7]\n",
        "    result = []\n",
        "\n",
        "    first = round(sqrt((self.monthly_expense - plat[0])**2 + (self.monthly_income - plat[1])**2) , 2)\n",
        "    result.append(first)\n",
        "\n",
        "    second = round(sqrt((self.monthly_expense - gold[0])**2 + (self.monthly_income - gold[1])**2) , 2)\n",
        "    result.append(second)\n",
        "\n",
        "    third = round(sqrt((self.monthly_expense - silver[0])**2 + (self.monthly_income - silver[1])**2) , 2)\n",
        "    result.append(third)\n",
        "\n",
        "    result_dic = {\n",
        "        'Platinum' : first,\n",
        "        'Gold' : second,\n",
        "        'Silver' : third\n",
        "    }\n",
        "\n",
        "    min_distance = min(result)\n",
        "\n",
        "    for tier, distance in result_dic.items():\n",
        "      if min_distance == distance:\n",
        "        self.data[self.username] = tier\n",
        "\n",
        "    print(f'Hasil perhitungan Euclidean Distance dari user {self.username} adalah {result_dic}')\n",
        "    print(f'Hasil prediksi membership user {self.username} adalah {self.data[self.username]}.')\n",
        "\n",
        "  def calculate_price(self,username,list_harga):\n",
        "    self.username = username\n",
        "    self.list_harga = list_harga\n",
        "\n",
        "    if username in self.data:\n",
        "      membership = self.data.get(username)\n",
        "\n",
        "      if membership == 'Silver':\n",
        "        final_price = sum(list_harga) -  (sum(list_harga) * 0.08)\n",
        "        return print(f'Final price nya adalah: Rp {final_price:,}')\n",
        "\n",
        "      elif membership == 'Gold':\n",
        "        final_price = sum(list_harga) -  (sum(list_harga) * 0.1)\n",
        "        print(f'Final price nya adalah: Rp {final_price:,}')\n",
        "\n",
        "      elif membership == 'Platinum':\n",
        "        final_price = sum(list_harga) -  (sum(list_harga) * 0.15)\n",
        "        return print(f'Final price nya adalah: Rp {final_price:,}')\n",
        "\n",
        "      else:\n",
        "        raise ValueError('Invalid Membership Status')\n",
        "\n",
        "    else:\n",
        "      raise ValueError('Username Not Found!')\n"
      ]
    },
    {
      "cell_type": "markdown",
      "metadata": {
        "id": "ueFl4yv_tZPL"
      },
      "source": [
        "**Test Case 1**"
      ]
    },
    {
      "cell_type": "code",
      "execution_count": 41,
      "metadata": {
        "colab": {
          "base_uri": "https://localhost:8080/"
        },
        "id": "eJgdqz66tfxb",
        "outputId": "9ddc9fb3-fb2d-4f54-f77a-2e2551a6b9c4"
      },
      "outputs": [
        {
          "name": "stdout",
          "output_type": "stream",
          "text": [
            "\n",
            "Paccommerce Membership Benefit\n",
            "╒══════════════╤════════════╤═══════════════════════════════════════════╕\n",
            "│  Membership  │  Discount  │              Another Benefit              │\n",
            "╞══════════════╪════════════╪═══════════════════════════════════════════╡\n",
            "│   Platinum   │    15%     │ Benefit Gold + Silver + Cashback max. 30% │\n",
            "├──────────────┼────────────┼───────────────────────────────────────────┤\n",
            "│     Gold     │    10%     │   Benefit Silver + Voucher Ojek Online    │\n",
            "├──────────────┼────────────┼───────────────────────────────────────────┤\n",
            "│    Silver    │     8%     │              Voucher Makanan              │\n",
            "╘══════════════╧════════════╧═══════════════════════════════════════════╛\n",
            "\n"
          ]
        }
      ],
      "source": [
        "user1 = Membership_user('Cahya')\n",
        "user1.show_benefit()"
      ]
    },
    {
      "cell_type": "markdown",
      "metadata": {
        "id": "yosWyF5StsAQ"
      },
      "source": [
        "**Test Case 2**"
      ]
    },
    {
      "cell_type": "code",
      "execution_count": 4,
      "metadata": {
        "colab": {
          "base_uri": "https://localhost:8080/"
        },
        "id": "Bbh3oxp0toe3",
        "outputId": "d1711d32-73b0-400b-a5e5-7546690742cc"
      },
      "outputs": [
        {
          "name": "stdout",
          "output_type": "stream",
          "text": [
            "\n",
            "Paccommerce Membership Benefit\n",
            "╒══════════════╤══════════════════════════╤═════════════════════════╕\n",
            "│ Membership   │  Monthly Expense (juta)  │  Monthly Income (juta)  │\n",
            "╞══════════════╪══════════════════════════╪═════════════════════════╡\n",
            "│ Platinum     │            8             │           15            │\n",
            "├──────────────┼──────────────────────────┼─────────────────────────┤\n",
            "│ Gold         │            6             │           10            │\n",
            "├──────────────┼──────────────────────────┼─────────────────────────┤\n",
            "│ Silver       │            5             │            7            │\n",
            "╘══════════════╧══════════════════════════╧═════════════════════════╛\n",
            "\n"
          ]
        }
      ],
      "source": [
        "user1.show_requirements()"
      ]
    },
    {
      "cell_type": "markdown",
      "metadata": {
        "id": "9TgxAzV2twWu"
      },
      "source": [
        "**Test Case 3**"
      ]
    },
    {
      "cell_type": "code",
      "execution_count": 45,
      "metadata": {
        "colab": {
          "base_uri": "https://localhost:8080/"
        },
        "id": "sCOkZpCWzHVF",
        "outputId": "9e55884b-803f-4c81-e8aa-debe3bb97b4b"
      },
      "outputs": [
        {
          "name": "stdout",
          "output_type": "stream",
          "text": [
            "Hasil perhitungan Euclidean Distance dari user Shandy adalah {'Platinum': 7.07, 'Gold': 3.0, 'Silver': 3.61}\n",
            "Hasil prediksi membership user Shandy adalah Gold.\n"
          ]
        }
      ],
      "source": [
        "user2 = Membership_user('Shandy')\n",
        "user2.predict_membership(3,10)"
      ]
    },
    {
      "cell_type": "code",
      "execution_count": null,
      "metadata": {
        "colab": {
          "base_uri": "https://localhost:8080/"
        },
        "id": "xHtqr0Hj4Oxa",
        "outputId": "78ac70b2-a789-4dcd-eeed-9e2c6cc1bcd0"
      },
      "outputs": [
        {
          "data": {
            "text/plain": [
              "{'Sumbul': 'Platinum', 'Ana': 'Gold', 'Cahya': 'Platinum', 'Shandy': 'Gold'}"
            ]
          },
          "execution_count": 79,
          "metadata": {},
          "output_type": "execute_result"
        }
      ],
      "source": [
        "user2.data"
      ]
    },
    {
      "cell_type": "code",
      "execution_count": 25,
      "metadata": {
        "colab": {
          "base_uri": "https://localhost:8080/",
          "height": 35
        },
        "id": "LIQRZklATClh",
        "outputId": "a9096b75-6eaa-4d8c-d943-57a574cdea98"
      },
      "outputs": [
        {
          "data": {
            "application/vnd.google.colaboratory.intrinsic+json": {
              "type": "string"
            },
            "text/plain": [
              "'Platinum'"
            ]
          },
          "execution_count": 25,
          "metadata": {},
          "output_type": "execute_result"
        }
      ],
      "source": [
        "user1.show_membership(user1.username)"
      ]
    },
    {
      "cell_type": "markdown",
      "metadata": {
        "id": "TTSwZqu5tzEg"
      },
      "source": [
        "**Test Case 4**"
      ]
    },
    {
      "cell_type": "code",
      "execution_count": 42,
      "metadata": {
        "colab": {
          "base_uri": "https://localhost:8080/"
        },
        "id": "hzlHXCMSVgmb",
        "outputId": "f83e5f19-805b-40d2-d6c6-1464c04c5866"
      },
      "outputs": [
        {
          "name": "stdout",
          "output_type": "stream",
          "text": [
            "Final price nya adalah: Rp 637,500.0\n"
          ]
        }
      ],
      "source": [
        "user1.calculate_price(user1.username, [150000, 200000, 400000])"
      ]
    },
    {
      "cell_type": "code",
      "execution_count": 43,
      "metadata": {
        "colab": {
          "base_uri": "https://localhost:8080/"
        },
        "id": "TD1XM_wRYME0",
        "outputId": "d80f4d0c-8cde-4f9a-f145-b4c3e13c7881"
      },
      "outputs": [
        {
          "data": {
            "text/plain": [
              "{'Sumbul': 'Platinum',\n",
              " 'Ana': 'Gold',\n",
              " 'Cahya': 'Platinum',\n",
              " 'Shandy': 'Platinum'}"
            ]
          },
          "execution_count": 43,
          "metadata": {},
          "output_type": "execute_result"
        }
      ],
      "source": [
        "user_ana = Membership_user(\"Ana\")\n",
        "user_ana.data"
      ]
    },
    {
      "cell_type": "code",
      "execution_count": 44,
      "metadata": {
        "colab": {
          "base_uri": "https://localhost:8080/"
        },
        "id": "Jp7IN0lUYTZr",
        "outputId": "f274b521-ce1a-4b61-faf6-a2288663c7e7"
      },
      "outputs": [
        {
          "name": "stdout",
          "output_type": "stream",
          "text": [
            "Final price nya adalah: Rp 675,000.0\n"
          ]
        }
      ],
      "source": [
        "user_ana.calculate_price(user_ana.username, [150000, 200000, 400000])"
      ]
    },
    {
      "cell_type": "markdown",
      "metadata": {
        "id": "w7oEM32Gtjfz"
      },
      "source": [
        "**Test Case 5**"
      ]
    },
    {
      "cell_type": "code",
      "execution_count": 48,
      "metadata": {
        "id": "5U3ZbocPRnd2"
      },
      "outputs": [],
      "source": [
        "user_bambang = Membership_user(\"Bambang\")"
      ]
    },
    {
      "cell_type": "code",
      "execution_count": 49,
      "metadata": {
        "colab": {
          "base_uri": "https://localhost:8080/"
        },
        "id": "EcfOfoBguJ_6",
        "outputId": "09e10ba2-d583-4a6d-f065-17276c557025"
      },
      "outputs": [
        {
          "name": "stdout",
          "output_type": "stream",
          "text": [
            "Hasil perhitungan Euclidean Distance dari user Bambang adalah {'Platinum': 12.08, 'Gold': 6.71, 'Silver': 3.61}\n",
            "Hasil prediksi membership user Bambang adalah Silver.\n"
          ]
        }
      ],
      "source": [
        "user_bambang.predict_membership(3, 4)"
      ]
    },
    {
      "cell_type": "code",
      "execution_count": 50,
      "metadata": {
        "colab": {
          "base_uri": "https://localhost:8080/",
          "height": 35
        },
        "id": "sYPmdZdiuL-X",
        "outputId": "16e76dbd-bb4a-4c30-c269-9c46751145da"
      },
      "outputs": [
        {
          "data": {
            "application/vnd.google.colaboratory.intrinsic+json": {
              "type": "string"
            },
            "text/plain": [
              "'Silver'"
            ]
          },
          "execution_count": 50,
          "metadata": {},
          "output_type": "execute_result"
        }
      ],
      "source": [
        "user_bambang.show_membership(user_bambang.username)"
      ]
    },
    {
      "cell_type": "code",
      "execution_count": 51,
      "metadata": {
        "colab": {
          "base_uri": "https://localhost:8080/"
        },
        "id": "JI35cFhfuYF-",
        "outputId": "486043c1-80c9-4d24-b4e3-9f0c38de063e"
      },
      "outputs": [
        {
          "name": "stdout",
          "output_type": "stream",
          "text": [
            "Final price nya adalah: Rp 1,577,800.0\n"
          ]
        }
      ],
      "source": [
        "user_bambang.calculate_price(user_bambang.username, [300_000, 150_000, 1_250_000, 15_000])"
      ]
    },
    {
      "cell_type": "code",
      "execution_count": null,
      "metadata": {
        "id": "_1HhRZJmuadC"
      },
      "outputs": [],
      "source": []
    }
  ],
  "metadata": {
    "colab": {
      "provenance": []
    },
    "kernelspec": {
      "display_name": "Python 3",
      "name": "python3"
    },
    "language_info": {
      "name": "python",
      "version": "3.9.6"
    }
  },
  "nbformat": 4,
  "nbformat_minor": 0
}
